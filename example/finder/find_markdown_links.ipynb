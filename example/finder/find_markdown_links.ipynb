{
 "cells": [
  {
   "cell_type": "code",
   "execution_count": 1,
   "metadata": {},
   "outputs": [
    {
     "name": "stdout",
     "output_type": "stream",
     "text": [
      "[('sample link', 'http://example.com'), ('link', 'http://test.scomsite.com')]\n"
     ]
    }
   ],
   "source": [
    "from crimson.filter_beta.finder.markdown_link import find_markdown_links\n",
    "\n",
    "\n",
    "# 사용 예시\n",
    "text = \"Here is a [sample link](http://example.com) and another [link](http://test.scomsite.com)\"\n",
    "data = find_markdown_links(text)\n",
    "print(data)"
   ]
  }
 ],
 "metadata": {
  "kernelspec": {
   "display_name": "filter-beta",
   "language": "python",
   "name": "python3"
  },
  "language_info": {
   "codemirror_mode": {
    "name": "ipython",
    "version": 3
   },
   "file_extension": ".py",
   "mimetype": "text/x-python",
   "name": "python",
   "nbconvert_exporter": "python",
   "pygments_lexer": "ipython3",
   "version": "3.11.9"
  }
 },
 "nbformat": 4,
 "nbformat_minor": 2
}
