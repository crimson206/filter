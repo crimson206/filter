{
 "cells": [
  {
   "cell_type": "markdown",
   "metadata": {},
   "source": [
    "## Import"
   ]
  },
  {
   "cell_type": "code",
   "execution_count": 1,
   "metadata": {},
   "outputs": [],
   "source": [
    "from crimson.filter_beta.filter import re_filter\n",
    "from crimson.filter_beta.printer import print_json\n",
    "import pytest\n",
    "import re\n"
   ]
  },
  {
   "cell_type": "markdown",
   "metadata": {},
   "source": [
    "## Default Includes All \n"
   ]
  },
  {
   "cell_type": "code",
   "execution_count": 2,
   "metadata": {},
   "outputs": [
    {
     "name": "stdout",
     "output_type": "stream",
     "text": [
      "[\n",
      "  \"Hello world\",\n",
      "  \"Python is great\",\n",
      "  \"OpenAI GPT\",\n",
      "  \"Machine learning\",\n",
      "  \"Deep learning with Python\",\n",
      "  \"Please, open the Python interpreter\"\n",
      "]\n"
     ]
    }
   ],
   "source": [
    "texts = [\n",
    "    \"Hello world\",\n",
    "    \"Python is great\",\n",
    "    \"OpenAI GPT\",\n",
    "    \"Machine learning\",\n",
    "    \"Deep learning with Python\",\n",
    "    \"Please, open the Python interpreter\"\n",
    "]\n",
    "\n",
    "\n",
    "all_included = re_filter(texts)\n",
    "\n",
    "print_json(all_included)"
   ]
  },
  {
   "cell_type": "markdown",
   "metadata": {},
   "source": [
    "## Excludes only with default flag"
   ]
  },
  {
   "cell_type": "code",
   "execution_count": 3,
   "metadata": {},
   "outputs": [
    {
     "name": "stdout",
     "output_type": "stream",
     "text": [
      "[\n",
      "  \"Hello world\",\n",
      "  \"Python is great\",\n",
      "  \"Machine learning\",\n",
      "  \"Deep learning with Python\"\n",
      "]\n"
     ]
    }
   ],
   "source": [
    "texts = [\n",
    "    \"Hello world\",\n",
    "    \"Python is great\",\n",
    "    \"OpenAI GPT\",\n",
    "    \"Machine learning\",\n",
    "    \"Deep learning with Python\",\n",
    "    \"Please, open the Python interpreter\"\n",
    "]\n",
    "\n",
    "exclude = [r'Open']\n",
    "all_included = re_filter(texts, exclude=exclude)\n",
    "\n",
    "print_json(all_included)"
   ]
  },
  {
   "cell_type": "markdown",
   "metadata": {},
   "source": [
    "## Ignore Case"
   ]
  },
  {
   "cell_type": "code",
   "execution_count": 4,
   "metadata": {},
   "outputs": [
    {
     "name": "stdout",
     "output_type": "stream",
     "text": [
      "{\n",
      "  \"case_ignored\": [\n",
      "    \"Python is great\",\n",
      "    \"Machine learning\",\n",
      "    \"Deep learning with Python\"\n",
      "  ],\n",
      "  \"case_strict\": [\n",
      "    \"Python is great\",\n",
      "    \"Machine learning\",\n",
      "    \"Deep learning with Python\",\n",
      "    \"Please, open the Python interpreter\"\n",
      "  ]\n",
      "}\n"
     ]
    }
   ],
   "source": [
    "texts = [\n",
    "    \"Hello world\",\n",
    "    \"Python is great\",\n",
    "    \"OpenAI GPT\",\n",
    "    \"Machine learning\",\n",
    "    \"Deep learning with Python\",\n",
    "    \"Please, open the Python interpreter\"\n",
    "]\n",
    "\n",
    "include = [r'Python', r'learning']\n",
    "exclude = [r'Open']\n",
    "\n",
    "case_ignored = re_filter(texts, include, exclude, flags=[re.IGNORECASE])\n",
    "case_strict =  re_filter(texts, include, exclude, flags=[])\n",
    "\n",
    "result = {\n",
    "\t\"case_ignored\": case_ignored,\n",
    "\t\"case_strict\": case_strict,\n",
    "}\n",
    "\n",
    "print_json(result)\n",
    "\t"
   ]
  },
  {
   "cell_type": "code",
   "execution_count": 5,
   "metadata": {},
   "outputs": [],
   "source": [
    "# test\n",
    "\n",
    "agreed = {\n",
    "  \"case_ignored\": [\n",
    "    \"Python is great\",\n",
    "    \"Machine learning\",\n",
    "    \"Deep learning with Python\"\n",
    "  ],\n",
    "  \"case_strict\": [\n",
    "    \"Python is great\",\n",
    "    \"Machine learning\",\n",
    "    \"Deep learning with Python\",\n",
    "    \"Please, open the Python interpreter\"\n",
    "  ]\n",
    "}\n",
    "assert result == agreed"
   ]
  },
  {
   "cell_type": "markdown",
   "metadata": {},
   "source": [
    "## Multiline"
   ]
  },
  {
   "cell_type": "code",
   "execution_count": 6,
   "metadata": {},
   "outputs": [
    {
     "name": "stdout",
     "output_type": "stream",
     "text": [
      "{\n",
      "  \"multiline_on\": [\n",
      "    \"  Python at start with indent\\nMiddle line\\nPython at end\",\n",
      "    \"Python at start without indent\\nMiddle line\\nPython at end\",\n",
      "    \"Not at start\\nPython in middle\\nNot at end\",\n",
      "    \"Multiple\\nPython\\nlines\\nwithout empty space, ends with Python\\n\",\n",
      "    \"Multiple\\nPython\\nlines\\nwith empty space, ends with Python   \\n\"\n",
      "  ],\n",
      "  \"multiline_off\": [\n",
      "    \"Python at start without indent\\nMiddle line\\nPython at end\",\n",
      "    \"Multiple\\nPython\\nlines\\nwithout empty space, ends with Python\\n\"\n",
      "  ]\n",
      "}\n"
     ]
    }
   ],
   "source": [
    "texts = [\n",
    "    \"  Python at start with indent\\nMiddle line\\nPython at end\",\n",
    "    \"Python at start without indent\\nMiddle line\\nPython at end\",\n",
    "    \"Not at start\\nPython in middle\\nNot at end\",\n",
    "    \"python lowercase\\nPYTHON UPPERCASE\",\n",
    "    \"No match here\\nNeither here\",\n",
    "    \"^Python with caret\\n$Python with dollar$\",\n",
    "    \"Multiple\\nPython\\nlines\\nwithout empty space, ends with Python\\n\",\n",
    "    \"Multiple\\nPython\\nlines\\nwith empty space, ends with Python   \\n\"\n",
    "]\n",
    "\n",
    "include = [r'^Python', r'Python$']  # Python으로 시작하거나 끝나는 줄 찾기\n",
    "exclude = [r'PYTHON']  # 대문자 PYTHON 제외\n",
    "\n",
    "\n",
    "multiline_on = re_filter(texts, include, exclude, flags=[re.MULTILINE])\n",
    "multiline_off = re_filter(texts, include, exclude, flags=[])\n",
    "\n",
    "result = {\n",
    "    \"multiline_on\": multiline_on,\n",
    "    \"multiline_off\": multiline_off,\n",
    "}\n",
    "\n",
    "print_json(result)"
   ]
  },
  {
   "cell_type": "code",
   "execution_count": 7,
   "metadata": {},
   "outputs": [],
   "source": [
    "# test\n",
    "\n",
    "agreed = {\n",
    "  \"multiline_on\": [\n",
    "    \"  Python at start with indent\\nMiddle line\\nPython at end\",\n",
    "    \"Python at start without indent\\nMiddle line\\nPython at end\",\n",
    "    \"Not at start\\nPython in middle\\nNot at end\",\n",
    "    \"Multiple\\nPython\\nlines\\nwithout empty space, ends with Python\\n\",\n",
    "    \"Multiple\\nPython\\nlines\\nwith empty space, ends with Python   \\n\"\n",
    "  ],\n",
    "  \"multiline_off\": [\n",
    "    \"Python at start without indent\\nMiddle line\\nPython at end\",\n",
    "    \"Multiple\\nPython\\nlines\\nwithout empty space, ends with Python\\n\"\n",
    "  ]\n",
    "}\n",
    "\n",
    "assert result == agreed"
   ]
  },
  {
   "cell_type": "markdown",
   "metadata": {},
   "source": [
    "## Paths"
   ]
  },
  {
   "cell_type": "code",
   "execution_count": 8,
   "metadata": {},
   "outputs": [
    {
     "name": "stdout",
     "output_type": "stream",
     "text": [
      "['/home/user/projects/project_01/README.md', '/home/user/example.py']\n"
     ]
    }
   ],
   "source": [
    "paths = [\n",
    "    \"/home/user/documents/file1.txt\",\n",
    "    \"/home/user/images/image.jpg\",\n",
    "    \"/home/user/projects/project_01/README.md\",\n",
    "    \"/home/user/example.py\",\n",
    "    \"/home/user/.hidden_file\",\n",
    "]\n",
    "\n",
    "include = [r\".*\\.py$\", r\"/projects/.*\"]\n",
    "exclude = [r\"^/home/user/\\..*\"]  # exclude folder starts with .\n",
    "\n",
    "filtered_paths = re_filter(paths, include, exclude)\n",
    "print(filtered_paths)"
   ]
  },
  {
   "cell_type": "code",
   "execution_count": 9,
   "metadata": {},
   "outputs": [],
   "source": [
    "# test\n",
    "\n",
    "agreed = ['/home/user/projects/project_01/README.md', '/home/user/example.py']\n",
    "\n",
    "assert filtered_paths == agreed"
   ]
  },
  {
   "cell_type": "markdown",
   "metadata": {},
   "source": [
    "## Email\n"
   ]
  },
  {
   "cell_type": "code",
   "execution_count": 10,
   "metadata": {},
   "outputs": [
    {
     "data": {
      "text/plain": [
       "['another_user@sub.domain.com', 'user@example.co.uk']"
      ]
     },
     "execution_count": 10,
     "metadata": {},
     "output_type": "execute_result"
    }
   ],
   "source": [
    "texts = [\n",
    "    \"user@example.com\",\n",
    "    \"invalid.email@com\",\n",
    "    \"another_user@sub.domain.com\",\n",
    "    \"not_an_email\",\n",
    "    \"user@example.co.uk\"\n",
    "]\n",
    "\n",
    "include = [r\"^[a-zA-Z0-9._%+-]+@[a-zA-Z0-9.-]+\\.[a-zA-Z]{2,}$\"]\n",
    "exclude = [r\"@example\\.com$\"]\n",
    "\n",
    "filtered = re_filter(texts, include, exclude)\n",
    "\n",
    "filtered"
   ]
  },
  {
   "cell_type": "code",
   "execution_count": 11,
   "metadata": {},
   "outputs": [],
   "source": [
    "# test\n",
    "\n",
    "agreed = ['another_user@sub.domain.com', 'user@example.co.uk']\n",
    "\n",
    "assert filtered == agreed\n",
    "\n",
    "# Error cell\n",
    "\n",
    "with pytest.raises(Exception):\n",
    "\tre_filter([\"test\"], [\"[\"], [])  # 잘못된 정규표현식"
   ]
  }
 ],
 "metadata": {
  "kernelspec": {
   "display_name": "filter-beta",
   "language": "python",
   "name": "python3"
  },
  "language_info": {
   "codemirror_mode": {
    "name": "ipython",
    "version": 3
   },
   "file_extension": ".py",
   "mimetype": "text/x-python",
   "name": "python",
   "nbconvert_exporter": "python",
   "pygments_lexer": "ipython3",
   "version": "3.11.9"
  }
 },
 "nbformat": 4,
 "nbformat_minor": 2
}
