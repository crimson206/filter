{
 "cells": [
  {
   "cell_type": "markdown",
   "metadata": {},
   "source": [
    "## Paths"
   ]
  },
  {
   "cell_type": "code",
   "execution_count": 3,
   "metadata": {},
   "outputs": [
    {
     "data": {
      "text/plain": [
       "['/home/user/projects/project_01/README.md', '/home/user/example.py']"
      ]
     },
     "execution_count": 3,
     "metadata": {},
     "output_type": "execute_result"
    }
   ],
   "source": [
    "from crimson.filter_beta.filter import fnmatch_filter\n",
    "from crimson.filter_beta.printer import print_json\n",
    "import re\n",
    "\n",
    "paths = [\n",
    "    \"/home/user/documents/file1.txt\",\n",
    "    \"/home/user/images/image.jpg\",\n",
    "    \"/home/user/projects/project_01/README.md\",\n",
    "    \"/home/user/example.py\",\n",
    "    \"/home/user/.hidden_file\",\n",
    "]\n",
    "\n",
    "include = [\"*.py\", \"*/projects/*\"]\n",
    "exclude = [\".*\"]\n",
    "filtered = fnmatch_filter(paths, include, exclude)\n",
    "filtered"
   ]
  }
 ],
 "metadata": {
  "kernelspec": {
   "display_name": "filter-beta",
   "language": "python",
   "name": "python3"
  },
  "language_info": {
   "codemirror_mode": {
    "name": "ipython",
    "version": 3
   },
   "file_extension": ".py",
   "mimetype": "text/x-python",
   "name": "python",
   "nbconvert_exporter": "python",
   "pygments_lexer": "ipython3",
   "version": "3.11.9"
  }
 },
 "nbformat": 4,
 "nbformat_minor": 2
}
