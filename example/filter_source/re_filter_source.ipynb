{
 "cells": [
  {
   "cell_type": "code",
   "execution_count": 6,
   "metadata": {},
   "outputs": [],
   "source": [
    "from crimson.filter_beta.filter.filter_source import re_filter_source\n"
   ]
  },
  {
   "cell_type": "markdown",
   "metadata": {},
   "source": [
    "## Default collects all paths\n"
   ]
  },
  {
   "cell_type": "code",
   "execution_count": 7,
   "metadata": {},
   "outputs": [
    {
     "data": {
      "text/plain": [
       "['finder/find_markdown_links.ipynb',\n",
       " 'filter_source/fnmatch_filter_source.ipynb',\n",
       " 'filter_source/re_filter_source.ipynb',\n",
       " 'filter/re_filter.ipynb',\n",
       " 'filter/fnmatch_filter.ipynb']"
      ]
     },
     "execution_count": 7,
     "metadata": {},
     "output_type": "execute_result"
    }
   ],
   "source": [
    "re_filter_source('..')"
   ]
  },
  {
   "cell_type": "markdown",
   "metadata": {},
   "source": [
    "## With Simple Exclude"
   ]
  },
  {
   "cell_type": "code",
   "execution_count": 8,
   "metadata": {},
   "outputs": [
    {
     "data": {
      "text/plain": [
       "['finder/find_markdown_links.ipynb',\n",
       " 'filter_source/re_filter_source.ipynb',\n",
       " 'filter/re_filter.ipynb']"
      ]
     },
     "execution_count": 8,
     "metadata": {},
     "output_type": "execute_result"
    }
   ],
   "source": [
    "# Re Filter compete with FnMatch filter?\n",
    "\n",
    "re_filter_source('..', exclude=[\".fnmatch.\"])"
   ]
  }
 ],
 "metadata": {
  "kernelspec": {
   "display_name": "filter-beta",
   "language": "python",
   "name": "python3"
  },
  "language_info": {
   "codemirror_mode": {
    "name": "ipython",
    "version": 3
   },
   "file_extension": ".py",
   "mimetype": "text/x-python",
   "name": "python",
   "nbconvert_exporter": "python",
   "pygments_lexer": "ipython3",
   "version": "3.11.9"
  }
 },
 "nbformat": 4,
 "nbformat_minor": 2
}
