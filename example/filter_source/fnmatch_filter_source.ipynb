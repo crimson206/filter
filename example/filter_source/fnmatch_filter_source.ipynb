{
 "cells": [
  {
   "cell_type": "code",
   "execution_count": 6,
   "metadata": {},
   "outputs": [],
   "source": [
    "from crimson.filter_beta.filter.filter_source import fnmatch_filter_source"
   ]
  },
  {
   "cell_type": "markdown",
   "metadata": {},
   "source": [
    "## Default collects all paths"
   ]
  },
  {
   "cell_type": "code",
   "execution_count": 7,
   "metadata": {},
   "outputs": [
    {
     "data": {
      "text/plain": [
       "['finder/find_markdown_links.ipynb',\n",
       " 'filter_source/fnmatch_filter_source.ipynb',\n",
       " 'filter_source/re_filter_source.ipynb',\n",
       " 'filter/re_filter.ipynb',\n",
       " 'filter/fnmatch_filter.ipynb']"
      ]
     },
     "execution_count": 7,
     "metadata": {},
     "output_type": "execute_result"
    }
   ],
   "source": [
    "fnmatch_filter_source('..')"
   ]
  },
  {
   "cell_type": "markdown",
   "metadata": {},
   "source": [
    "## With Simple Exclude"
   ]
  },
  {
   "cell_type": "code",
   "execution_count": 8,
   "metadata": {},
   "outputs": [
    {
     "data": {
      "text/plain": [
       "['finder/find_markdown_links.ipynb',\n",
       " 'filter_source/fnmatch_filter_source.ipynb',\n",
       " 'filter/fnmatch_filter.ipynb']"
      ]
     },
     "execution_count": 8,
     "metadata": {},
     "output_type": "execute_result"
    }
   ],
   "source": [
    "# FnMatch Filter compete with Re filter?\n",
    "\n",
    "fnmatch_filter_source('..', exclude=[\"*re*\"])"
   ]
  }
 ],
 "metadata": {
  "kernelspec": {
   "display_name": "filter-beta",
   "language": "python",
   "name": "python3"
  },
  "language_info": {
   "codemirror_mode": {
    "name": "ipython",
    "version": 3
   },
   "file_extension": ".py",
   "mimetype": "text/x-python",
   "name": "python",
   "nbconvert_exporter": "python",
   "pygments_lexer": "ipython3",
   "version": "3.11.9"
  }
 },
 "nbformat": 4,
 "nbformat_minor": 2
}
